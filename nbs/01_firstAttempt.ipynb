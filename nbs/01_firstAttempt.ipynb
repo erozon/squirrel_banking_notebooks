{
 "cells": [
  {
   "cell_type": "markdown",
   "id": "e36bc403",
   "metadata": {},
   "source": [
    "# A first attempt to model the evolution of patience"
   ]
  },
  {
   "cell_type": "markdown",
   "id": "e653d889",
   "metadata": {},
   "source": [
    "Squirrels in nature store nuts for the winter. Throughout these explorations, squirrels represent agents which may forego an immediate reward (nuts) in favour of a delayed alternative. Any assertions I make about squirrels henceforth are to be interpreted as how squirrels in the model behave, and are not necessarily zoologically accurate."
   ]
  },
  {
   "cell_type": "markdown",
   "id": "4d845f05",
   "metadata": {},
   "source": [
    "A squirrel forrages daily for nuts, finding either $0$, $1$, or $2$ nuts, with probabilities $p_0$, $p_1$, and $p_2$ respectively. A squirrel who consumes $0$ nuts dies. A squirrel who finds $1$ nut keeps itself alive until the following day. And a squirrel who finds $2$ nuts not only stays alive, but produces an offspring who the next day proceeds to live a life entirely independently of its parent. "
   ]
  },
  {
   "cell_type": "markdown",
   "id": "4b4f661c",
   "metadata": {},
   "source": [
    "There are some natural questions to be asked. "
   ]
  },
  {
   "cell_type": "code",
   "execution_count": null,
   "id": "841f5bdc",
   "metadata": {},
   "outputs": [],
   "source": []
  }
 ],
 "metadata": {
  "kernelspec": {
   "display_name": "python3",
   "language": "python",
   "name": "python3"
  }
 },
 "nbformat": 4,
 "nbformat_minor": 5
}
