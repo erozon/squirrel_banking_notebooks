{
 "cells": [
  {
   "cell_type": "markdown",
   "metadata": {},
   "source": [
    "# Squirrel Banking\n",
    "\n",
    "> My thesis at UBC concentrated on quantifying the evolutionary origins of patience. This repository includes some of the Jupyter Notebooks used for exploration and experimentation."
   ]
  },
  {
   "cell_type": "markdown",
   "metadata": {},
   "source": [
    "Roughly speaking, patience describes an individual's (more generally, an agent's) willingness to wait for a delayed reward. A reward of magnitude $r$ received at delay $t > 0$ is typically assumed to be of less intrinsic value to the recipient than if the same reward $r$ were received with no delay ($t = 0$). A discounting function quantifies the extent to which an individual perceives the relative value of a reward changing as delay to receipt varies. "
   ]
  }
 ],
 "metadata": {
  "kernelspec": {
   "display_name": "python3",
   "language": "python",
   "name": "python3"
  }
 },
 "nbformat": 4,
 "nbformat_minor": 4
}
