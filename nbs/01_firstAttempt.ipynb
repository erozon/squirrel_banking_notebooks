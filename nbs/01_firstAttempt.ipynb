{
 "cells": [
  {
   "cell_type": "markdown",
   "id": "50ad97f5",
   "metadata": {},
   "source": [
    "# A first attempt to model the evolution of patience"
   ]
  },
  {
   "cell_type": "markdown",
   "id": "cff8ef76",
   "metadata": {},
   "source": [
    "Squirrels in nature store nuts for the winter. Throughout these explorations, squirrels represent agents who may forego an immediate reward (nuts) in favour of a delayed alternative. Assertions made about squirrels are to be interpreted as descriptions of how squirrels in the model behave, and are not necessarily zoologically accurate."
   ]
  },
  {
   "cell_type": "markdown",
   "id": "ae94a75c",
   "metadata": {},
   "source": [
    "A squirrel forrages daily for nuts, finding either $0$, $1$, or $2$ nuts, with probabilities $p_0$, $p_1$, and $p_2$ respectively. A squirrel who consumes $0$ nuts dies. A squirrel who finds $1$ nut keeps itself alive until the following day. And a squirrel who finds $2$ nuts not only stays alive, but produces an offspring who the next day proceeds to live a life entirely independently of its parent. "
   ]
  },
  {
   "cell_type": "markdown",
   "id": "8ef8b323",
   "metadata": {},
   "source": [
    "Suppose we allow our squirrel to bank nuts. By keeping a cache of nuts saved, a squirrel may survive despite finding $0$ nuts, by dipping into its reserves and consuming from the cache. Banking helps a squirrel to live a longer life. However, banking also delays reproduction. All else equal, evolutionary processes favour faster reproduction and not dying (enabling one to reproduce more).  "
   ]
  },
  {
   "cell_type": "code",
   "execution_count": null,
   "id": "f59006fe",
   "metadata": {},
   "outputs": [],
   "source": []
  }
 ],
 "metadata": {
  "kernelspec": {
   "display_name": "python3",
   "language": "python",
   "name": "python3"
  }
 },
 "nbformat": 4,
 "nbformat_minor": 5
}
