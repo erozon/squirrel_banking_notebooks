{
 "cells": [
  {
   "cell_type": "markdown",
   "id": "f71b9238",
   "metadata": {},
   "source": [
    "# Fitness"
   ]
  },
  {
   "cell_type": "markdown",
   "id": "af968960",
   "metadata": {},
   "source": [
    "Fitness is the metric determining an individual's evolutionary success. An individual with higher fitness is expected to reproduce more and survive better than an individual with lower fitness. Thus, iterating over many generations, the higher fitness individual's lineage will continue, whereas the lower fitness individual's lineage will die out. In other words, we expect survival of the fittest. "
   ]
  },
  {
   "cell_type": "markdown",
   "id": "61c716ba",
   "metadata": {},
   "source": [
    "While the principle of survival of the fittest is straightforward, determining a measure of fitness which functions in practice is a little more challenging. One candidate for fitness is the number of offspring an individual produces over a lifetime. Suppose an individual has discrete age categories $a \\in \\{0, 1, \\ldots, A\\}$. Further suppose the survival probability and expected number of offspring (conditional on still being alive) are described by $(s_0, s_1, \\ldots, s_{A-1}, s_A = 0)$ and $(b_0, b_1, \\ldots, b_A)$. Then total expected lifetime reproductive output is described by:\n",
    "\n",
    "$$R_0 = \\sum\\limits_{a = 0}^{A} s_0\\cdots s_{a-1} b_a $$\n",
    "\n",
    "A continuous time analogue, wherein $s_a$ and $b_a$ describe the probability density of survival and reproduction, is given by:\n",
    "\n",
    "$$R_0 = \\int_0^A s_a b_a \\text{d}a$$"
   ]
  },
  {
   "cell_type": "markdown",
   "id": "328646ea",
   "metadata": {},
   "source": [
    "Lifetime reproductive output has a few appealing properties. $R_0$ is algebraically straightforward to compute, and the components $s_a$ and $b_a$ can be empirically measured in practice. For my purposes, however, $R_0$ accounts for time only through survival probability. As a concrete example: if an individual is guaranteed to survive from age $5$ to $6$, then reproduction at either age results is identical fitness outcomes, if fitness is measured by $R_0$. At the same time, a population which reproduces earlier (with no downstream negative effects) will tend to grow faster and thus perform better. We want a measure of fitnes which accounts for the evolutionary pressure to reproduce quicker."
   ]
  },
  {
   "cell_type": "code",
   "execution_count": null,
   "id": "946b4d9a",
   "metadata": {},
   "outputs": [],
   "source": []
  }
 ],
 "metadata": {
  "kernelspec": {
   "display_name": "python3",
   "language": "python",
   "name": "python3"
  }
 },
 "nbformat": 4,
 "nbformat_minor": 5
}
